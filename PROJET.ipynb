{
  "nbformat": 4,
  "nbformat_minor": 0,
  "metadata": {
    "colab": {
      "name": "PROJET.ipynb",
      "provenance": [],
      "collapsed_sections": []
    },
    "kernelspec": {
      "name": "python3",
      "display_name": "Python 3"
    },
    "language_info": {
      "name": "python"
    }
  },
  "cells": [
    {
      "cell_type": "code",
      "metadata": {
        "colab": {
          "base_uri": "https://localhost:8080/",
          "height": 717
        },
        "id": "v42UQXuIdU2_",
        "outputId": "e1355360-41f5-4ff1-b31e-e134b8041515"
      },
      "source": [
        "#Chargement des modules de base \n",
        "import numpy as np \n",
        "import pandas as pd \n",
        "import matplotlib.pyplot as plt \n",
        "! pip install investpy\n",
        "import investpy "
      ],
      "execution_count": 1,
      "outputs": [
        {
          "output_type": "stream",
          "text": [
            "Collecting investpy\n",
            "\u001b[?25l  Downloading https://files.pythonhosted.org/packages/b7/01/f0112c19563e342794c848ae9557e217222035849452a51680fbacd16b65/investpy-1.0.6.tar.gz (4.4MB)\n",
            "\u001b[K     |████████████████████████████████| 4.4MB 6.9MB/s \n",
            "\u001b[?25hCollecting Unidecode>=1.1.1\n",
            "\u001b[?25l  Downloading https://files.pythonhosted.org/packages/9e/25/723487ca2a52ebcee88a34d7d1f5a4b80b793f179ee0f62d5371938dfa01/Unidecode-1.2.0-py2.py3-none-any.whl (241kB)\n",
            "\u001b[K     |████████████████████████████████| 245kB 37.4MB/s \n",
            "\u001b[?25hRequirement already satisfied: setuptools>=41.2.0 in /usr/local/lib/python3.7/dist-packages (from investpy) (56.1.0)\n",
            "Requirement already satisfied: numpy>=1.17.2 in /usr/local/lib/python3.7/dist-packages (from investpy) (1.19.5)\n",
            "Requirement already satisfied: pandas>=0.25.1 in /usr/local/lib/python3.7/dist-packages (from investpy) (1.1.5)\n",
            "Collecting lxml>=4.4.1\n",
            "\u001b[?25l  Downloading https://files.pythonhosted.org/packages/30/c0/d0526314971fc661b083ab135747dc68446a3022686da8c16d25fcf6ef07/lxml-4.6.3-cp37-cp37m-manylinux2014_x86_64.whl (6.3MB)\n",
            "\u001b[K     |████████████████████████████████| 6.3MB 38.7MB/s \n",
            "\u001b[?25hRequirement already satisfied: requests>=2.22.0 in /usr/local/lib/python3.7/dist-packages (from investpy) (2.23.0)\n",
            "Collecting pytz>=2019.3\n",
            "\u001b[?25l  Downloading https://files.pythonhosted.org/packages/70/94/784178ca5dd892a98f113cdd923372024dc04b8d40abe77ca76b5fb90ca6/pytz-2021.1-py2.py3-none-any.whl (510kB)\n",
            "\u001b[K     |████████████████████████████████| 512kB 41.7MB/s \n",
            "\u001b[?25hRequirement already satisfied: python-dateutil>=2.7.3 in /usr/local/lib/python3.7/dist-packages (from pandas>=0.25.1->investpy) (2.8.1)\n",
            "Requirement already satisfied: chardet<4,>=3.0.2 in /usr/local/lib/python3.7/dist-packages (from requests>=2.22.0->investpy) (3.0.4)\n",
            "Requirement already satisfied: urllib3!=1.25.0,!=1.25.1,<1.26,>=1.21.1 in /usr/local/lib/python3.7/dist-packages (from requests>=2.22.0->investpy) (1.24.3)\n",
            "Requirement already satisfied: idna<3,>=2.5 in /usr/local/lib/python3.7/dist-packages (from requests>=2.22.0->investpy) (2.10)\n",
            "Requirement already satisfied: certifi>=2017.4.17 in /usr/local/lib/python3.7/dist-packages (from requests>=2.22.0->investpy) (2020.12.5)\n",
            "Requirement already satisfied: six>=1.5 in /usr/local/lib/python3.7/dist-packages (from python-dateutil>=2.7.3->pandas>=0.25.1->investpy) (1.15.0)\n",
            "Building wheels for collected packages: investpy\n",
            "  Building wheel for investpy (setup.py) ... \u001b[?25l\u001b[?25hdone\n",
            "  Created wheel for investpy: filename=investpy-1.0.6-cp37-none-any.whl size=4485151 sha256=c09ba7d0d1a9d8387638cde86a55ed0adfeadb7b781a80255d71d4ca5d314775\n",
            "  Stored in directory: /root/.cache/pip/wheels/13/5f/65/a9e30255faec3c0b7dd11b40fa1042c61c5b0cfbbb9797c474\n",
            "Successfully built investpy\n",
            "Installing collected packages: Unidecode, lxml, pytz, investpy\n",
            "  Found existing installation: lxml 4.2.6\n",
            "    Uninstalling lxml-4.2.6:\n",
            "      Successfully uninstalled lxml-4.2.6\n",
            "  Found existing installation: pytz 2018.9\n",
            "    Uninstalling pytz-2018.9:\n",
            "      Successfully uninstalled pytz-2018.9\n",
            "Successfully installed Unidecode-1.2.0 investpy-1.0.6 lxml-4.6.3 pytz-2021.1\n"
          ],
          "name": "stdout"
        },
        {
          "output_type": "display_data",
          "data": {
            "application/vnd.colab-display-data+json": {
              "pip_warning": {
                "packages": [
                  "pytz"
                ]
              }
            }
          },
          "metadata": {
            "tags": []
          }
        }
      ]
    },
    {
      "cell_type": "code",
      "metadata": {
        "colab": {
          "base_uri": "https://localhost:8080/"
        },
        "id": "Awb56UQEdWu4",
        "outputId": "71cab307-f024-40b7-fc50-53ce42838f97"
      },
      "source": [
        "investpy.get_stock_countries()#permet d'afficher les pays dans la bourse investing"
      ],
      "execution_count": 2,
      "outputs": [
        {
          "output_type": "execute_result",
          "data": {
            "text/plain": [
              "['argentina',\n",
              " 'brazil',\n",
              " 'canada',\n",
              " 'chile',\n",
              " 'colombia',\n",
              " 'costa rica',\n",
              " 'jamaica',\n",
              " 'mexico',\n",
              " 'peru',\n",
              " 'united states',\n",
              " 'venezuela',\n",
              " 'austria',\n",
              " 'belgium',\n",
              " 'bosnia',\n",
              " 'bulgaria',\n",
              " 'croatia',\n",
              " 'cyprus',\n",
              " 'czech republic',\n",
              " 'denmark',\n",
              " 'finland',\n",
              " 'france',\n",
              " 'germany',\n",
              " 'greece',\n",
              " 'hungary',\n",
              " 'iceland',\n",
              " 'ireland',\n",
              " 'italy',\n",
              " 'luxembourg',\n",
              " 'malta',\n",
              " 'montenegro',\n",
              " 'netherlands',\n",
              " 'norway',\n",
              " 'poland',\n",
              " 'portugal',\n",
              " 'romania',\n",
              " 'russia',\n",
              " 'serbia',\n",
              " 'slovakia',\n",
              " 'slovenia',\n",
              " 'spain',\n",
              " 'sweden',\n",
              " 'switzerland',\n",
              " 'turkey',\n",
              " 'ukraine',\n",
              " 'united kingdom',\n",
              " 'australia',\n",
              " 'bangladesh',\n",
              " 'china',\n",
              " 'hong kong',\n",
              " 'india',\n",
              " 'indonesia',\n",
              " 'japan',\n",
              " 'kazakhstan',\n",
              " 'malaysia',\n",
              " 'mongolia',\n",
              " 'new zealand',\n",
              " 'pakistan',\n",
              " 'philippines',\n",
              " 'singapore',\n",
              " 'south korea',\n",
              " 'sri lanka',\n",
              " 'taiwan',\n",
              " 'thailand',\n",
              " 'vietnam',\n",
              " 'bahrain',\n",
              " 'egypt',\n",
              " 'iraq',\n",
              " 'israel',\n",
              " 'jordan',\n",
              " 'kuwait',\n",
              " 'lebanon',\n",
              " 'oman',\n",
              " 'palestine',\n",
              " 'qatar',\n",
              " 'saudi arabia',\n",
              " 'dubai',\n",
              " 'botswana',\n",
              " 'ivory coast',\n",
              " 'kenya',\n",
              " 'malawi',\n",
              " 'mauritius',\n",
              " 'morocco',\n",
              " 'namibia',\n",
              " 'nigeria',\n",
              " 'rwanda',\n",
              " 'south africa',\n",
              " 'tanzania',\n",
              " 'tunisia',\n",
              " 'uganda',\n",
              " 'zambia',\n",
              " 'zimbabwe']"
            ]
          },
          "metadata": {
            "tags": []
          },
          "execution_count": 2
        }
      ]
    },
    {
      "cell_type": "code",
      "metadata": {
        "id": "YD1u1DLDfOwl"
      },
      "source": [
        "liste_entreprise=[\"AB\",\"ATB\",\"BS\",\"BH\",\"BIAT\",\"BNA\",\"BT\",\"BTEI\",\"STB\",\"UBCI\",\"UIB\"]"
      ],
      "execution_count": 3,
      "outputs": []
    },
    {
      "cell_type": "markdown",
      "metadata": {
        "id": "tCBSDw9HLL0p"
      },
      "source": [
        "#Collecte des données de tous les entreprises (prix de close uniquement )\n"
      ]
    },
    {
      "cell_type": "code",
      "metadata": {
        "colab": {
          "base_uri": "https://localhost:8080/"
        },
        "id": "1JSfdxgKfVe0",
        "outputId": "4be68e7f-3f03-43c5-f970-3fc539f731e6"
      },
      "source": [
        "dictionnaire={}\n",
        "for symbole in liste_entreprise : \n",
        "  df= investpy.get_stock_historical_data(stock=symbole,country=\"tunisia\",from_date=\"1/1/2010\",to_date=\"08/5/2021\")\n",
        "  print(\"On vient de collecter les données de l'entreprise \"+ symbole)\n",
        "  print(\"####################\")\n",
        "  dictionnaire[symbole]= df[\"Close\"]"
      ],
      "execution_count": 5,
      "outputs": [
        {
          "output_type": "stream",
          "text": [
            "On vient de collecter les données de l'entreprise AB\n",
            "####################\n",
            "On vient de collecter les données de l'entreprise ATB\n",
            "####################\n",
            "On vient de collecter les données de l'entreprise BS\n",
            "####################\n",
            "On vient de collecter les données de l'entreprise BH\n",
            "####################\n",
            "On vient de collecter les données de l'entreprise BIAT\n",
            "####################\n",
            "On vient de collecter les données de l'entreprise BNA\n",
            "####################\n",
            "On vient de collecter les données de l'entreprise BT\n",
            "####################\n",
            "On vient de collecter les données de l'entreprise BTEI\n",
            "####################\n",
            "On vient de collecter les données de l'entreprise STB\n",
            "####################\n",
            "On vient de collecter les données de l'entreprise UBCI\n",
            "####################\n",
            "On vient de collecter les données de l'entreprise UIB\n",
            "####################\n"
          ],
          "name": "stdout"
        }
      ]
    },
    {
      "cell_type": "code",
      "metadata": {
        "colab": {
          "base_uri": "https://localhost:8080/"
        },
        "id": "3_x4JcT7iHG1",
        "outputId": "80ec14ed-af9d-4679-d6e2-8ba0108f069e"
      },
      "source": [
        "dictionnaire.keys() #pour afficher les clés et .items pour afficher les données de tous les entreprises tunisienne "
      ],
      "execution_count": 6,
      "outputs": [
        {
          "output_type": "execute_result",
          "data": {
            "text/plain": [
              "dict_keys(['AB', 'ATB', 'BS', 'BH', 'BIAT', 'BNA', 'BT', 'BTEI', 'STB', 'UBCI', 'UIB'])"
            ]
          },
          "metadata": {
            "tags": []
          },
          "execution_count": 6
        }
      ]
    },
    {
      "cell_type": "code",
      "metadata": {
        "colab": {
          "base_uri": "https://localhost:8080/"
        },
        "id": "s3Ig99OAiSaz",
        "outputId": "a4f9f993-f592-4cbd-f39b-ac0edd6cb347"
      },
      "source": [
        "df[\"Close\"].pct_change().mean() * 252 #le rendement moyen annuel"
      ],
      "execution_count": 7,
      "outputs": [
        {
          "output_type": "execute_result",
          "data": {
            "text/plain": [
              "-0.009897839568440396"
            ]
          },
          "metadata": {
            "tags": []
          },
          "execution_count": 7
        }
      ]
    },
    {
      "cell_type": "code",
      "metadata": {
        "colab": {
          "base_uri": "https://localhost:8080/"
        },
        "id": "ULHSXr7Yiw9L",
        "outputId": "6b99fb18-14eb-41c6-c925-5b3952800a23"
      },
      "source": [
        "df[\"Close\"].pct_change().std() * np.sqrt(252) #la volatilité moyenne annuelle"
      ],
      "execution_count": 8,
      "outputs": [
        {
          "output_type": "execute_result",
          "data": {
            "text/plain": [
              "0.19440446799180258"
            ]
          },
          "metadata": {
            "tags": []
          },
          "execution_count": 8
        }
      ]
    },
    {
      "cell_type": "markdown",
      "metadata": {
        "id": "kMZUqwl9jD6s"
      },
      "source": [
        "#Affichage de rendement annuel et volatilité annuel de tous les banques tunsiennes \n",
        "\n",
        "---\n",
        "\n",
        "de la bourse tunisienne "
      ]
    },
    {
      "cell_type": "code",
      "metadata": {
        "colab": {
          "base_uri": "https://localhost:8080/"
        },
        "id": "lzlFo9-mjJws",
        "outputId": "a47a3f14-8b35-4222-b297-a5cf7b750ef6"
      },
      "source": [
        "dictionnaire2 = {}\n",
        "for entreprise in dictionnaire.keys() : \n",
        "  rendement_annuel = dictionnaire[entreprise].pct_change().mean() * 252 #le rendement moyen annuel\n",
        "  volatilite_annuelle = dictionnaire[entreprise].pct_change().std() * np.sqrt(252) #la volatilité moyenne annuelle\n",
        "  dictionnaire2[entreprise] = [rendement_annuel,volatilite_annuelle]\n",
        "dictionnaire2"
      ],
      "execution_count": 9,
      "outputs": [
        {
          "output_type": "execute_result",
          "data": {
            "text/plain": [
              "{'AB': [-0.036831849571665416, 0.18881635116667955],\n",
              " 'ATB': [-0.06983002697614125, 0.23125877917336213],\n",
              " 'BH': [-0.062093458794656, 0.28719935145662584],\n",
              " 'BIAT': [0.024939598264855433, 0.25269416567558683],\n",
              " 'BNA': [-0.02299225362103172, 0.24270509962444822],\n",
              " 'BS': [0.04949185668821256, 0.20005100976017032],\n",
              " 'BT': [-0.021187153129429374, 0.20286732379703143],\n",
              " 'BTEI': [-0.1508764635257363, 0.30938145974782616],\n",
              " 'STB': [-0.11165731254467744, 0.2922137744016276],\n",
              " 'UBCI': [-0.07789255031202054, 0.3487274299462147],\n",
              " 'UIB': [-0.009897839568440396, 0.19440446799180258]}"
            ]
          },
          "metadata": {
            "tags": []
          },
          "execution_count": 9
        }
      ]
    },
    {
      "cell_type": "code",
      "metadata": {
        "id": "1RqniWZZjSCE"
      },
      "source": [
        "df = pd.DataFrame(data=dictionnaire2).T # transformer le dictionnaire sous forme d'un dataframe et le transposer "
      ],
      "execution_count": 10,
      "outputs": []
    },
    {
      "cell_type": "code",
      "metadata": {
        "id": "r7c6IloYjWPV"
      },
      "source": [
        "df.columns=[\"rendement An\",\"Risque\"] #j'ai renommer les columns "
      ],
      "execution_count": 11,
      "outputs": []
    },
    {
      "cell_type": "code",
      "metadata": {
        "colab": {
          "base_uri": "https://localhost:8080/",
          "height": 390
        },
        "id": "X47G1xPXjac8",
        "outputId": "eb608a62-34ee-4989-8ff2-45ab7cddd1f7"
      },
      "source": [
        "df #affichage de la data frame de rendement et volatilité (risque ) de tous les banques tunisiennes"
      ],
      "execution_count": 12,
      "outputs": [
        {
          "output_type": "execute_result",
          "data": {
            "text/html": [
              "<div>\n",
              "<style scoped>\n",
              "    .dataframe tbody tr th:only-of-type {\n",
              "        vertical-align: middle;\n",
              "    }\n",
              "\n",
              "    .dataframe tbody tr th {\n",
              "        vertical-align: top;\n",
              "    }\n",
              "\n",
              "    .dataframe thead th {\n",
              "        text-align: right;\n",
              "    }\n",
              "</style>\n",
              "<table border=\"1\" class=\"dataframe\">\n",
              "  <thead>\n",
              "    <tr style=\"text-align: right;\">\n",
              "      <th></th>\n",
              "      <th>rendement An</th>\n",
              "      <th>Risque</th>\n",
              "    </tr>\n",
              "  </thead>\n",
              "  <tbody>\n",
              "    <tr>\n",
              "      <th>AB</th>\n",
              "      <td>-0.036832</td>\n",
              "      <td>0.188816</td>\n",
              "    </tr>\n",
              "    <tr>\n",
              "      <th>ATB</th>\n",
              "      <td>-0.069830</td>\n",
              "      <td>0.231259</td>\n",
              "    </tr>\n",
              "    <tr>\n",
              "      <th>BS</th>\n",
              "      <td>0.049492</td>\n",
              "      <td>0.200051</td>\n",
              "    </tr>\n",
              "    <tr>\n",
              "      <th>BH</th>\n",
              "      <td>-0.062093</td>\n",
              "      <td>0.287199</td>\n",
              "    </tr>\n",
              "    <tr>\n",
              "      <th>BIAT</th>\n",
              "      <td>0.024940</td>\n",
              "      <td>0.252694</td>\n",
              "    </tr>\n",
              "    <tr>\n",
              "      <th>BNA</th>\n",
              "      <td>-0.022992</td>\n",
              "      <td>0.242705</td>\n",
              "    </tr>\n",
              "    <tr>\n",
              "      <th>BT</th>\n",
              "      <td>-0.021187</td>\n",
              "      <td>0.202867</td>\n",
              "    </tr>\n",
              "    <tr>\n",
              "      <th>BTEI</th>\n",
              "      <td>-0.150876</td>\n",
              "      <td>0.309381</td>\n",
              "    </tr>\n",
              "    <tr>\n",
              "      <th>STB</th>\n",
              "      <td>-0.111657</td>\n",
              "      <td>0.292214</td>\n",
              "    </tr>\n",
              "    <tr>\n",
              "      <th>UBCI</th>\n",
              "      <td>-0.077893</td>\n",
              "      <td>0.348727</td>\n",
              "    </tr>\n",
              "    <tr>\n",
              "      <th>UIB</th>\n",
              "      <td>-0.009898</td>\n",
              "      <td>0.194404</td>\n",
              "    </tr>\n",
              "  </tbody>\n",
              "</table>\n",
              "</div>"
            ],
            "text/plain": [
              "      rendement An    Risque\n",
              "AB       -0.036832  0.188816\n",
              "ATB      -0.069830  0.231259\n",
              "BS        0.049492  0.200051\n",
              "BH       -0.062093  0.287199\n",
              "BIAT      0.024940  0.252694\n",
              "BNA      -0.022992  0.242705\n",
              "BT       -0.021187  0.202867\n",
              "BTEI     -0.150876  0.309381\n",
              "STB      -0.111657  0.292214\n",
              "UBCI     -0.077893  0.348727\n",
              "UIB      -0.009898  0.194404"
            ]
          },
          "metadata": {
            "tags": []
          },
          "execution_count": 12
        }
      ]
    },
    {
      "cell_type": "code",
      "metadata": {
        "colab": {
          "base_uri": "https://localhost:8080/"
        },
        "id": "iYLVgkL401rh",
        "outputId": "131e4edc-f7c1-4f18-8bff-77dec11d2f6f"
      },
      "source": [
        "df[\"rendement An\"].min() #le rendement le plus faible correspond a BTEI"
      ],
      "execution_count": 44,
      "outputs": [
        {
          "output_type": "execute_result",
          "data": {
            "text/plain": [
              "-0.1508764635257363"
            ]
          },
          "metadata": {
            "tags": []
          },
          "execution_count": 44
        }
      ]
    },
    {
      "cell_type": "code",
      "metadata": {
        "colab": {
          "base_uri": "https://localhost:8080/"
        },
        "id": "53iqg_6A1Iav",
        "outputId": "b7e1d783-280a-4007-cba9-167bdad3d5c7"
      },
      "source": [
        "df[\"rendement An\"].max() #le rendement le plus elevé correspond a BS"
      ],
      "execution_count": 46,
      "outputs": [
        {
          "output_type": "execute_result",
          "data": {
            "text/plain": [
              "0.04949185668821256"
            ]
          },
          "metadata": {
            "tags": []
          },
          "execution_count": 46
        }
      ]
    },
    {
      "cell_type": "code",
      "metadata": {
        "colab": {
          "base_uri": "https://localhost:8080/"
        },
        "id": "ZDjVnTYT1aPq",
        "outputId": "930251c9-528f-457c-c195-c8353caa9050"
      },
      "source": [
        "df[\"Risque\"].min() #le risque le plus faible correspond a AB\n",
        "#le titre de UBCI represente la volatilité la plus importante c'est à dire le risque attaché à ce titre est moins important "
      ],
      "execution_count": 50,
      "outputs": [
        {
          "output_type": "execute_result",
          "data": {
            "text/plain": [
              "0.18881635116667955"
            ]
          },
          "metadata": {
            "tags": []
          },
          "execution_count": 50
        }
      ]
    },
    {
      "cell_type": "code",
      "metadata": {
        "colab": {
          "base_uri": "https://localhost:8080/"
        },
        "id": "d_E0_KgM1lQF",
        "outputId": "1dc07ae7-b38d-418b-e301-d6454e64b4bb"
      },
      "source": [
        "df[\"Risque\"].max() #le risque le plus faible correspond a UBCI\n",
        "#le titre de UBCI represente la volatilité la plus importante c'est à dire le risque attaché à ce titre est tres important "
      ],
      "execution_count": 49,
      "outputs": [
        {
          "output_type": "execute_result",
          "data": {
            "text/plain": [
              "0.3487274299462147"
            ]
          },
          "metadata": {
            "tags": []
          },
          "execution_count": 49
        }
      ]
    },
    {
      "cell_type": "code",
      "metadata": {
        "colab": {
          "base_uri": "https://localhost:8080/",
          "height": 320
        },
        "id": "K5JdmQrtFmjP",
        "outputId": "79c0abb7-04c6-42f2-fd2c-c71b233eb543"
      },
      "source": [
        "#visualiser le rendement et le risque des banques tunisiennes\n",
        "df.interpolate().plot(figsize=(5,5))\n",
        "plt.show()"
      ],
      "execution_count": 103,
      "outputs": [
        {
          "output_type": "display_data",
          "data": {
            "image/png": "[encoded data removed]",
            "text/plain": [
              "<Figure size 360x360 with 1 Axes>"
            ]
          },
          "metadata": {
            "tags": [],
            "needs_background": "light"
          }
        }
      ]
    },
    {
      "cell_type": "code",
      "metadata": {
        "colab": {
          "base_uri": "https://localhost:8080/",
          "height": 295
        },
        "id": "Vo3ZRwKL2d0b",
        "outputId": "5b7b6672-2350-4b18-c851-817dec18ba67"
      },
      "source": [
        "#Calculer et visualiser la correlation entre la volatilité et le rendement an \n",
        "pd.plotting.scatter_matrix(df);"
      ],
      "execution_count": 59,
      "outputs": [
        {
          "output_type": "display_data",
          "data": {
            "image/png": "[encoded data removed]",
            "text/plain": [
              "<Figure size 432x288 with 4 Axes>"
            ]
          },
          "metadata": {
            "tags": [],
            "needs_background": "light"
          }
        }
      ]
    },
    {
      "cell_type": "code",
      "metadata": {
        "colab": {
          "base_uri": "https://localhost:8080/",
          "height": 595
        },
        "id": "k8hMHcLcGAFZ",
        "outputId": "ff898d8c-cb51-493b-8ccc-b7187baadb2b"
      },
      "source": [
        "plt.figure(figsize=(10,10))\n",
        "plt.imshow(df.corr());\n",
        "plt.colorbar()"
      ],
      "execution_count": 106,
      "outputs": [
        {
          "output_type": "execute_result",
          "data": {
            "text/plain": [
              "<matplotlib.colorbar.Colorbar at 0x7fa6412d9350>"
            ]
          },
          "metadata": {
            "tags": []
          },
          "execution_count": 106
        },
        {
          "output_type": "display_data",
          "data": {
            "image/png": "[encoded data removed]",
            "text/plain": [
              "<Figure size 720x720 with 2 Axes>"
            ]
          },
          "metadata": {
            "tags": [],
            "needs_background": "light"
          }
        }
      ]
    },
    {
      "cell_type": "code",
      "metadata": {
        "colab": {
          "base_uri": "https://localhost:8080/",
          "height": 111
        },
        "id": "KCfIFiBI22eJ",
        "outputId": "0f0d9c74-46f7-41dd-d8ea-2c2d8cc3c385"
      },
      "source": [
        "df.corr()\n",
        "#on remarque que le rendement et le risque sont faible correlés\n"
      ],
      "execution_count": 63,
      "outputs": [
        {
          "output_type": "execute_result",
          "data": {
            "text/html": [
              "<div>\n",
              "<style scoped>\n",
              "    .dataframe tbody tr th:only-of-type {\n",
              "        vertical-align: middle;\n",
              "    }\n",
              "\n",
              "    .dataframe tbody tr th {\n",
              "        vertical-align: top;\n",
              "    }\n",
              "\n",
              "    .dataframe thead th {\n",
              "        text-align: right;\n",
              "    }\n",
              "</style>\n",
              "<table border=\"1\" class=\"dataframe\">\n",
              "  <thead>\n",
              "    <tr style=\"text-align: right;\">\n",
              "      <th></th>\n",
              "      <th>rendement An</th>\n",
              "      <th>Risque</th>\n",
              "    </tr>\n",
              "  </thead>\n",
              "  <tbody>\n",
              "    <tr>\n",
              "      <th>rendement An</th>\n",
              "      <td>1.000000</td>\n",
              "      <td>-0.670724</td>\n",
              "    </tr>\n",
              "    <tr>\n",
              "      <th>Risque</th>\n",
              "      <td>-0.670724</td>\n",
              "      <td>1.000000</td>\n",
              "    </tr>\n",
              "  </tbody>\n",
              "</table>\n",
              "</div>"
            ],
            "text/plain": [
              "              rendement An    Risque\n",
              "rendement An      1.000000 -0.670724\n",
              "Risque           -0.670724  1.000000"
            ]
          },
          "metadata": {
            "tags": []
          },
          "execution_count": 63
        }
      ]
    },
    {
      "cell_type": "markdown",
      "metadata": {
        "id": "DTpVpJuQkB18"
      },
      "source": [
        "#Application de l'algoritme de K-MEANS\n",
        "\n",
        "- Pour regrouper les données "
      ]
    },
    {
      "cell_type": "code",
      "metadata": {
        "colab": {
          "base_uri": "https://localhost:8080/",
          "height": 312
        },
        "id": "pTaumSxAkA5B",
        "outputId": "7b1f1bce-a57a-4122-870d-70c4fd73544f"
      },
      "source": [
        "colors = (\"red\", \"green\", \"blue\",\"pink\",\"gray\",\"purple\",\"orange\",\"olive\",\"brown\",\"gold\",\"lime\")\n",
        "plt.scatter(df.iloc[:,0], df.iloc[:,1], c=colors ); #visualisation \n",
        "plt.title(\"La distrubution des banques tunisienes cotées bourse\")\n",
        "plt.xlabel(\"rendement Annuel\")\n",
        "plt.ylabel(\"Risque\");\n",
        "plt.legend();\n",
        "plt.show()\n"
      ],
      "execution_count": 41,
      "outputs": [
        {
          "output_type": "stream",
          "text": [
            "No handles with labels found to put in legend.\n"
          ],
          "name": "stderr"
        },
        {
          "output_type": "display_data",
          "data": {
            "image/png": "[encoded data removed]",
            "text/plain": [
              "<Figure size 432x288 with 1 Axes>"
            ]
          },
          "metadata": {
            "tags": [],
            "needs_background": "light"
          }
        }
      ]
    },
    {
      "cell_type": "code",
      "metadata": {
        "id": "OPKJF2v5XUlI"
      },
      "source": [
        "from sklearn.cluster import KMeans\n",
        "#instantiation de la classe KMeans\n",
        "model= KMeans()\n",
        "#Methode ELBOW qui permer de distinguer combiens de groupes on peut diviser les entreprises de la bourse tunisienne \n",
        "L = [0]\n",
        "for i in range(2,11):\n",
        "  model=KMeans(n_clusters=i)\n",
        "  model.fit(df.iloc[:,0].values.reshape(-1,1), df.iloc[:,1].values.reshape(-1,1))\n",
        "  L.append(model.inertia_)\n",
        "  #inertia_float : Sum of squared distances of samples to their closest cluster center."
      ],
      "execution_count": 14,
      "outputs": []
    },
    {
      "cell_type": "code",
      "metadata": {
        "colab": {
          "base_uri": "https://localhost:8080/",
          "height": 265
        },
        "id": "ijXQPHjXXhut",
        "outputId": "24e3deee-f2f0-44af-899b-ac80e0df4b0c"
      },
      "source": [
        "plt.plot(list(range(2 , 12)),L); #on observe qu'on a entre 3 ou 4 groupes "
      ],
      "execution_count": 15,
      "outputs": [
        {
          "output_type": "display_data",
          "data": {
            "image/png": "[encoded data removed]",
            "text/plain": [
              "<Figure size 432x288 with 1 Axes>"
            ]
          },
          "metadata": {
            "tags": [],
            "needs_background": "light"
          }
        }
      ]
    },
    {
      "cell_type": "code",
      "metadata": {
        "id": "0qf9EtDeX3DE"
      },
      "source": [
        "model=KMeans(n_clusters=3)"
      ],
      "execution_count": 16,
      "outputs": []
    },
    {
      "cell_type": "code",
      "metadata": {
        "colab": {
          "base_uri": "https://localhost:8080/"
        },
        "id": "qtwGLAeVX5Xa",
        "outputId": "feeb3c65-d90a-4b4e-97f7-cdf643f9295a"
      },
      "source": [
        "model.fit_predict(df.iloc[:,0].values.reshape(-1,1), df.iloc[:,1].values.reshape(-1,1))\n"
      ],
      "execution_count": 17,
      "outputs": [
        {
          "output_type": "execute_result",
          "data": {
            "text/plain": [
              "array([0, 0, 2, 0, 2, 0, 0, 1, 1, 0, 0], dtype=int32)"
            ]
          },
          "metadata": {
            "tags": []
          },
          "execution_count": 17
        }
      ]
    },
    {
      "cell_type": "markdown",
      "metadata": {
        "id": "w0gLA4HsZzKv"
      },
      "source": [
        "#les groupes\n",
        "##0=(\"BS\",\"BIAT\")\n",
        "##1=('BTEI', 'STB')\n",
        "##2=('AB', 'ATB','BH','BNA','BT','UBCI', 'UIB')"
      ]
    },
    {
      "cell_type": "markdown",
      "metadata": {
        "id": "J4bd3OaIaHpF"
      },
      "source": [
        "\n",
        "\n",
        "---\n",
        "\n",
        "\n",
        "#Detect_Fraud\n",
        "\n"
      ]
    },
    {
      "cell_type": "code",
      "metadata": {
        "colab": {
          "base_uri": "https://localhost:8080/",
          "height": 265
        },
        "id": "HrvoKUl4aM9n",
        "outputId": "4e0c2181-ed85-4620-e5a1-f827f33a9db7"
      },
      "source": [
        "#Generation d'un comportement normal \n",
        "#On utilise des techniques de techniques Monte Carlo (simulation monte carlo)\n",
        "plt.hist(df[\"Risque\"],bins=20);\n",
        "plt.hist(df[\"rendement An\"],bins=20);\n",
        "#on remarque qu'on a pas des valeurs aberrantes dans le risque et rendement annuel des entreprises"
      ],
      "execution_count": 18,
      "outputs": [
        {
          "output_type": "display_data",
          "data": {
            "image/png": "[encoded data removed]",
            "text/plain": [
              "<Figure size 432x288 with 1 Axes>"
            ]
          },
          "metadata": {
            "tags": [],
            "needs_background": "light"
          }
        }
      ]
    },
    {
      "cell_type": "code",
      "metadata": {
        "colab": {
          "base_uri": "https://localhost:8080/",
          "height": 265
        },
        "id": "Evufxpime5Uw",
        "outputId": "9890aaca-9992-4ac5-fec6-bef1484a1ce7"
      },
      "source": [
        "#la deuxiemen technique à l'aide des diagrames de moustaches (boxplot)\n",
        "#on utilisant la methode de tukey\n",
        "pd.DataFrame(data=df).boxplot();"
      ],
      "execution_count": 19,
      "outputs": [
        {
          "output_type": "display_data",
          "data": {
            "image/png": "[encoded data removed]",
            "text/plain": [
              "<Figure size 432x288 with 1 Axes>"
            ]
          },
          "metadata": {
            "tags": [],
            "needs_background": "light"
          }
        }
      ]
    },
    {
      "cell_type": "code",
      "metadata": {
        "colab": {
          "base_uri": "https://localhost:8080/",
          "height": 265
        },
        "id": "zSClYRfagVTl",
        "outputId": "9a830a2a-1bbb-4370-8137-c537a1dd4dd2"
      },
      "source": [
        "df.boxplot(); #affichage de la boite à moustaches"
      ],
      "execution_count": 20,
      "outputs": [
        {
          "output_type": "display_data",
          "data": {
            "image/png": "[encoded data removed]",
            "text/plain": [
              "<Figure size 432x288 with 1 Axes>"
            ]
          },
          "metadata": {
            "tags": [],
            "needs_background": "light"
          }
        }
      ]
    },
    {
      "cell_type": "markdown",
      "metadata": {
        "id": "mdgQRfLtgraR"
      },
      "source": [
        "#Predict_courbe\n",
        "\n",
        "## Part 1 - Data Preprocessing\n"
      ]
    },
    {
      "cell_type": "code",
      "metadata": {
        "colab": {
          "base_uri": "https://localhost:8080/"
        },
        "id": "2xSQSplmgvmf",
        "outputId": "86e3356b-0a10-40eb-d539-c2c71a713651"
      },
      "source": [
        "# Importing the training set\n",
        "dataset_train = pd.read_csv('AB Historical Data_train.csv')\n",
        "training_set = dataset_train.iloc[:, 1:2].values\n",
        "dataset_train\n",
        "training_set"
      ],
      "execution_count": 21,
      "outputs": [
        {
          "output_type": "execute_result",
          "data": {
            "text/plain": [
              "array([[29.97],\n",
              "       [29.8 ],\n",
              "       [29.97],\n",
              "       ...,\n",
              "       [37.75],\n",
              "       [38.  ],\n",
              "       [37.6 ]])"
            ]
          },
          "metadata": {
            "tags": []
          },
          "execution_count": 21
        }
      ]
    },
    {
      "cell_type": "code",
      "metadata": {
        "colab": {
          "base_uri": "https://localhost:8080/",
          "height": 282
        },
        "id": "Jq1UYyHXnj8q",
        "outputId": "cc686f96-7ae5-4473-8521-fd3f88d41bd5"
      },
      "source": [
        "dataset_train.plot();\n"
      ],
      "execution_count": 224,
      "outputs": [
        {
          "output_type": "execute_result",
          "data": {
            "text/plain": [
              "pandas.core.frame.DataFrame"
            ]
          },
          "metadata": {
            "tags": []
          },
          "execution_count": 224
        },
        {
          "output_type": "display_data",
          "data": {
            "image/png": "[encoded data removed]",
            "text/plain": [
              "<Figure size 432x288 with 1 Axes>"
            ]
          },
          "metadata": {
            "tags": [],
            "needs_background": "light"
          }
        }
      ]
    },
    {
      "cell_type": "code",
      "metadata": {
        "id": "VfddHixJnnfF"
      },
      "source": [
        "# Feature Scaling\n",
        "from sklearn.preprocessing import MinMaxScaler\n",
        "sc = MinMaxScaler(feature_range = (0, 1))\n",
        "training_set_scaled = sc.fit_transform(training_set)"
      ],
      "execution_count": 23,
      "outputs": []
    },
    {
      "cell_type": "code",
      "metadata": {
        "colab": {
          "base_uri": "https://localhost:8080/",
          "height": 265
        },
        "id": "kE4OeEPsnrbS",
        "outputId": "fb9b54fe-3305-4fa2-ac68-0f8f9ff315c9"
      },
      "source": [
        "plt.plot(training_set_scaled);"
      ],
      "execution_count": 24,
      "outputs": [
        {
          "output_type": "display_data",
          "data": {
            "image/png": "[encoded data removed]",
            "text/plain": [
              "<Figure size 432x288 with 1 Axes>"
            ]
          },
          "metadata": {
            "tags": [],
            "needs_background": "light"
          }
        }
      ]
    },
    {
      "cell_type": "code",
      "metadata": {
        "id": "8vPHEhbgnuWX"
      },
      "source": [
        "# Creating a data structure with 60 timesteps and 1 output\n",
        "X_train = []\n",
        "y_train = []\n",
        "for i in range(60, 2384):\n",
        "    X_train.append(training_set_scaled[i-60:i, 0])\n",
        "    y_train.append(training_set_scaled[i, 0])\n",
        "X_train, y_train = np.array(X_train), np.array(y_train)"
      ],
      "execution_count": 25,
      "outputs": []
    },
    {
      "cell_type": "code",
      "metadata": {
        "id": "vd14iX3sn3W7"
      },
      "source": [
        "# Reshaping\n",
        "X_train = np.reshape(X_train, (X_train.shape[0], X_train.shape[1], 1))"
      ],
      "execution_count": 26,
      "outputs": []
    },
    {
      "cell_type": "markdown",
      "metadata": {
        "id": "HIjlBMInn99H"
      },
      "source": [
        "# Part 2 - Building the RNN\n"
      ]
    },
    {
      "cell_type": "code",
      "metadata": {
        "id": "FJj2T0FhoAGv"
      },
      "source": [
        "# Importing the Keras libraries and packages\n",
        "from keras.models import Sequential\n",
        "from keras.layers import Dense\n",
        "from keras.layers import LSTM\n",
        "from keras.layers import Dropout"
      ],
      "execution_count": 27,
      "outputs": []
    },
    {
      "cell_type": "code",
      "metadata": {
        "id": "Ivpk42dToCo8"
      },
      "source": [
        "# Initialising the RNN\n",
        "regressor = Sequential()"
      ],
      "execution_count": 28,
      "outputs": []
    },
    {
      "cell_type": "code",
      "metadata": {
        "id": "Do6vd9nloFdD"
      },
      "source": [
        "# Adding the first LSTM layer and some Dropout regularisation\n",
        "regressor.add(LSTM(units = 50, return_sequences = True, input_shape = (X_train.shape[1], 1)))\n",
        "regressor.add(Dropout(0.2))"
      ],
      "execution_count": 29,
      "outputs": []
    },
    {
      "cell_type": "code",
      "metadata": {
        "id": "UFw3gKxUoJoB"
      },
      "source": [
        "# Adding a second LSTM layer and some Dropout regularisation\n",
        "regressor.add(LSTM(units = 50, return_sequences = True))\n",
        "regressor.add(Dropout(0.2))"
      ],
      "execution_count": 30,
      "outputs": []
    },
    {
      "cell_type": "code",
      "metadata": {
        "id": "sMeiCUWkoKjG"
      },
      "source": [
        "# Adding a third LSTM layer and some Dropout regularisation\n",
        "regressor.add(LSTM(units = 50, return_sequences = True))\n",
        "regressor.add(Dropout(0.2))"
      ],
      "execution_count": 31,
      "outputs": []
    },
    {
      "cell_type": "code",
      "metadata": {
        "id": "V0fM3NsUoNwr"
      },
      "source": [
        "# Adding a fourth LSTM layer and some Dropout regularisation\n",
        "regressor.add(LSTM(units = 50))\n",
        "regressor.add(Dropout(0.2))"
      ],
      "execution_count": 32,
      "outputs": []
    },
    {
      "cell_type": "code",
      "metadata": {
        "id": "8GFjJWZZoPO8"
      },
      "source": [
        "# Adding the output layer\n",
        "regressor.add(Dense(units = 1))"
      ],
      "execution_count": 33,
      "outputs": []
    },
    {
      "cell_type": "code",
      "metadata": {
        "id": "eAY6xE25oRre"
      },
      "source": [
        "# Compiling the RNN\n",
        "regressor.compile(optimizer = 'adam', loss = 'mean_squared_error')"
      ],
      "execution_count": 34,
      "outputs": []
    },
    {
      "cell_type": "code",
      "metadata": {
        "colab": {
          "base_uri": "https://localhost:8080/"
        },
        "id": "LyQPWfJQoUrT",
        "outputId": "a0cfae10-4779-4a5f-9de0-42973e302afb"
      },
      "source": [
        "# Fitting the RNN to the Training set\n",
        "regressor.fit(X_train, y_train, epochs = 100, batch_size = 32)"
      ],
      "execution_count": 35,
      "outputs": [
        {
          "output_type": "stream",
          "text": [
            "Epoch 1/100\n",
            "73/73 [==============================] - 14s 105ms/step - loss: 0.0480\n",
            "Epoch 2/100\n",
            "73/73 [==============================] - 8s 105ms/step - loss: 0.0044\n",
            "Epoch 3/100\n",
            "73/73 [==============================] - 8s 106ms/step - loss: 0.0045\n",
            "Epoch 4/100\n",
            "73/73 [==============================] - 8s 104ms/step - loss: 0.0041\n",
            "Epoch 5/100\n",
            "73/73 [==============================] - 8s 106ms/step - loss: 0.0038\n",
            "Epoch 6/100\n",
            "73/73 [==============================] - 8s 106ms/step - loss: 0.0037\n",
            "Epoch 7/100\n",
            "73/73 [==============================] - 8s 110ms/step - loss: 0.0036\n",
            "Epoch 8/100\n",
            "73/73 [==============================] - 8s 106ms/step - loss: 0.0033\n",
            "Epoch 9/100\n",
            "73/73 [==============================] - 8s 109ms/step - loss: 0.0029\n",
            "Epoch 10/100\n",
            "73/73 [==============================] - 8s 108ms/step - loss: 0.0028\n",
            "Epoch 11/100\n",
            "73/73 [==============================] - 8s 109ms/step - loss: 0.0029\n",
            "Epoch 12/100\n",
            "73/73 [==============================] - 8s 108ms/step - loss: 0.0029\n",
            "Epoch 13/100\n",
            "73/73 [==============================] - 8s 108ms/step - loss: 0.0027\n",
            "Epoch 14/100\n",
            "73/73 [==============================] - 8s 108ms/step - loss: 0.0026\n",
            "Epoch 15/100\n",
            "73/73 [==============================] - 8s 109ms/step - loss: 0.0029\n",
            "Epoch 16/100\n",
            "73/73 [==============================] - 8s 108ms/step - loss: 0.0026\n",
            "Epoch 17/100\n",
            "73/73 [==============================] - 8s 108ms/step - loss: 0.0024\n",
            "Epoch 18/100\n",
            "73/73 [==============================] - 8s 108ms/step - loss: 0.0020\n",
            "Epoch 19/100\n",
            "73/73 [==============================] - 8s 110ms/step - loss: 0.0022\n",
            "Epoch 20/100\n",
            "73/73 [==============================] - 8s 108ms/step - loss: 0.0019\n",
            "Epoch 21/100\n",
            "73/73 [==============================] - 8s 108ms/step - loss: 0.0018\n",
            "Epoch 22/100\n",
            "73/73 [==============================] - 8s 108ms/step - loss: 0.0020\n",
            "Epoch 23/100\n",
            "73/73 [==============================] - 8s 109ms/step - loss: 0.0017\n",
            "Epoch 24/100\n",
            "73/73 [==============================] - 8s 109ms/step - loss: 0.0018\n",
            "Epoch 25/100\n",
            "73/73 [==============================] - 8s 108ms/step - loss: 0.0018\n",
            "Epoch 26/100\n",
            "73/73 [==============================] - 8s 109ms/step - loss: 0.0018\n",
            "Epoch 27/100\n",
            "73/73 [==============================] - 8s 109ms/step - loss: 0.0018\n",
            "Epoch 28/100\n",
            "73/73 [==============================] - 8s 109ms/step - loss: 0.0016\n",
            "Epoch 29/100\n",
            "73/73 [==============================] - 8s 108ms/step - loss: 0.0016\n",
            "Epoch 30/100\n",
            "73/73 [==============================] - 8s 110ms/step - loss: 0.0016\n",
            "Epoch 31/100\n",
            "73/73 [==============================] - 8s 110ms/step - loss: 0.0015\n",
            "Epoch 32/100\n",
            "73/73 [==============================] - 8s 109ms/step - loss: 0.0015\n",
            "Epoch 33/100\n",
            "73/73 [==============================] - 8s 110ms/step - loss: 0.0017\n",
            "Epoch 34/100\n",
            "73/73 [==============================] - 8s 109ms/step - loss: 0.0013\n",
            "Epoch 35/100\n",
            "73/73 [==============================] - 8s 109ms/step - loss: 0.0014\n",
            "Epoch 36/100\n",
            "73/73 [==============================] - 8s 108ms/step - loss: 0.0016\n",
            "Epoch 37/100\n",
            "73/73 [==============================] - 8s 108ms/step - loss: 0.0017\n",
            "Epoch 38/100\n",
            "73/73 [==============================] - 8s 108ms/step - loss: 0.0015\n",
            "Epoch 39/100\n",
            "73/73 [==============================] - 8s 109ms/step - loss: 0.0012\n",
            "Epoch 40/100\n",
            "73/73 [==============================] - 8s 108ms/step - loss: 0.0012\n",
            "Epoch 41/100\n",
            "73/73 [==============================] - 8s 110ms/step - loss: 0.0011\n",
            "Epoch 42/100\n",
            "73/73 [==============================] - 8s 111ms/step - loss: 0.0012\n",
            "Epoch 43/100\n",
            "73/73 [==============================] - 8s 110ms/step - loss: 0.0012\n",
            "Epoch 44/100\n",
            "73/73 [==============================] - 8s 110ms/step - loss: 0.0012\n",
            "Epoch 45/100\n",
            "73/73 [==============================] - 8s 112ms/step - loss: 0.0012\n",
            "Epoch 46/100\n",
            "73/73 [==============================] - 8s 111ms/step - loss: 0.0011\n",
            "Epoch 47/100\n",
            "73/73 [==============================] - 8s 111ms/step - loss: 0.0010\n",
            "Epoch 48/100\n",
            "73/73 [==============================] - 8s 110ms/step - loss: 0.0011\n",
            "Epoch 49/100\n",
            "73/73 [==============================] - 8s 110ms/step - loss: 0.0010\n",
            "Epoch 50/100\n",
            "73/73 [==============================] - 8s 110ms/step - loss: 0.0012\n",
            "Epoch 51/100\n",
            "73/73 [==============================] - 8s 111ms/step - loss: 0.0010\n",
            "Epoch 52/100\n",
            "73/73 [==============================] - 8s 110ms/step - loss: 0.0010\n",
            "Epoch 53/100\n",
            "73/73 [==============================] - 8s 111ms/step - loss: 0.0010\n",
            "Epoch 54/100\n",
            "73/73 [==============================] - 8s 112ms/step - loss: 9.6349e-04\n",
            "Epoch 55/100\n",
            "73/73 [==============================] - 8s 111ms/step - loss: 0.0010\n",
            "Epoch 56/100\n",
            "73/73 [==============================] - 8s 111ms/step - loss: 9.6754e-04\n",
            "Epoch 57/100\n",
            "73/73 [==============================] - 8s 109ms/step - loss: 9.2571e-04\n",
            "Epoch 58/100\n",
            "73/73 [==============================] - 8s 110ms/step - loss: 9.7361e-04\n",
            "Epoch 59/100\n",
            "73/73 [==============================] - 8s 111ms/step - loss: 9.8936e-04\n",
            "Epoch 60/100\n",
            "73/73 [==============================] - 8s 112ms/step - loss: 8.9143e-04\n",
            "Epoch 61/100\n",
            "73/73 [==============================] - 8s 111ms/step - loss: 9.3560e-04\n",
            "Epoch 62/100\n",
            "73/73 [==============================] - 8s 111ms/step - loss: 0.0011\n",
            "Epoch 63/100\n",
            "73/73 [==============================] - 8s 111ms/step - loss: 9.3137e-04\n",
            "Epoch 64/100\n",
            "73/73 [==============================] - 8s 111ms/step - loss: 9.2508e-04\n",
            "Epoch 65/100\n",
            "73/73 [==============================] - 8s 111ms/step - loss: 8.8716e-04\n",
            "Epoch 66/100\n",
            "73/73 [==============================] - 8s 112ms/step - loss: 9.2556e-04\n",
            "Epoch 67/100\n",
            "73/73 [==============================] - 8s 111ms/step - loss: 9.6381e-04\n",
            "Epoch 68/100\n",
            "73/73 [==============================] - 8s 110ms/step - loss: 8.3950e-04\n",
            "Epoch 69/100\n",
            "73/73 [==============================] - 8s 110ms/step - loss: 8.3720e-04\n",
            "Epoch 70/100\n",
            "73/73 [==============================] - 8s 110ms/step - loss: 8.7558e-04\n",
            "Epoch 71/100\n",
            "73/73 [==============================] - 8s 111ms/step - loss: 9.1405e-04\n",
            "Epoch 72/100\n",
            "73/73 [==============================] - 8s 110ms/step - loss: 9.0006e-04\n",
            "Epoch 73/100\n",
            "73/73 [==============================] - 8s 109ms/step - loss: 8.6959e-04\n",
            "Epoch 74/100\n",
            "73/73 [==============================] - 8s 109ms/step - loss: 0.0010\n",
            "Epoch 75/100\n",
            "73/73 [==============================] - 8s 110ms/step - loss: 8.8805e-04\n",
            "Epoch 76/100\n",
            "73/73 [==============================] - 8s 111ms/step - loss: 7.4189e-04\n",
            "Epoch 77/100\n",
            "73/73 [==============================] - 8s 110ms/step - loss: 9.7272e-04\n",
            "Epoch 78/100\n",
            "73/73 [==============================] - 8s 110ms/step - loss: 8.5330e-04\n",
            "Epoch 79/100\n",
            "73/73 [==============================] - 8s 111ms/step - loss: 8.2375e-04\n",
            "Epoch 80/100\n",
            "73/73 [==============================] - 8s 112ms/step - loss: 7.9033e-04\n",
            "Epoch 81/100\n",
            "73/73 [==============================] - 8s 111ms/step - loss: 8.3478e-04\n",
            "Epoch 82/100\n",
            "73/73 [==============================] - 8s 111ms/step - loss: 9.0259e-04\n",
            "Epoch 83/100\n",
            "73/73 [==============================] - 8s 110ms/step - loss: 8.6789e-04\n",
            "Epoch 84/100\n",
            "73/73 [==============================] - 8s 111ms/step - loss: 9.1411e-04\n",
            "Epoch 85/100\n",
            "73/73 [==============================] - 8s 111ms/step - loss: 8.1862e-04\n",
            "Epoch 86/100\n",
            "73/73 [==============================] - 8s 111ms/step - loss: 8.3377e-04\n",
            "Epoch 87/100\n",
            "73/73 [==============================] - 8s 110ms/step - loss: 8.3927e-04\n",
            "Epoch 88/100\n",
            "73/73 [==============================] - 8s 110ms/step - loss: 8.2376e-04\n",
            "Epoch 89/100\n",
            "73/73 [==============================] - 8s 112ms/step - loss: 9.2295e-04\n",
            "Epoch 90/100\n",
            "73/73 [==============================] - 8s 112ms/step - loss: 7.5765e-04\n",
            "Epoch 91/100\n",
            "73/73 [==============================] - 8s 111ms/step - loss: 9.8348e-04\n",
            "Epoch 92/100\n",
            "73/73 [==============================] - 8s 113ms/step - loss: 8.4534e-04\n",
            "Epoch 93/100\n",
            "73/73 [==============================] - 8s 110ms/step - loss: 7.6747e-04\n",
            "Epoch 94/100\n",
            "73/73 [==============================] - 8s 112ms/step - loss: 7.8703e-04\n",
            "Epoch 95/100\n",
            "73/73 [==============================] - 8s 113ms/step - loss: 7.1447e-04\n",
            "Epoch 96/100\n",
            "73/73 [==============================] - 8s 110ms/step - loss: 7.0194e-04\n",
            "Epoch 97/100\n",
            "73/73 [==============================] - 8s 114ms/step - loss: 7.6755e-04\n",
            "Epoch 98/100\n",
            "73/73 [==============================] - 8s 112ms/step - loss: 8.0768e-04\n",
            "Epoch 99/100\n",
            "73/73 [==============================] - 8s 113ms/step - loss: 7.8646e-04\n",
            "Epoch 100/100\n",
            "73/73 [==============================] - 8s 111ms/step - loss: 8.8479e-04\n"
          ],
          "name": "stdout"
        },
        {
          "output_type": "execute_result",
          "data": {
            "text/plain": [
              "<tensorflow.python.keras.callbacks.History at 0x7fa649691a90>"
            ]
          },
          "metadata": {
            "tags": []
          },
          "execution_count": 35
        }
      ]
    },
    {
      "cell_type": "markdown",
      "metadata": {
        "id": "qMXDu_Jqp3ju"
      },
      "source": [
        "# Part 3 - Making the predictions and visualising the results\n"
      ]
    },
    {
      "cell_type": "code",
      "metadata": {
        "id": "WeJh_7dep53_"
      },
      "source": [
        "# Getting the real stock price of 2017\n",
        "dataset_test = pd.read_csv('AB Historical Data_test.csv')\n",
        "real_stock_price = dataset_test.iloc[:, 1:2].values\n"
      ],
      "execution_count": 36,
      "outputs": []
    },
    {
      "cell_type": "code",
      "metadata": {
        "id": "JHonA-Lvp8mj"
      },
      "source": [
        "# Getting the predicted stock price of 2017\n",
        "dataset_total = pd.concat((dataset_train['Open'], dataset_test['Open']), axis = 0)\n",
        "inputs = dataset_total[len(dataset_total) - len(dataset_test) - 60:].values\n",
        "inputs = inputs.reshape(-1,1)\n",
        "inputs = sc.transform(inputs)\n",
        "X_test = []\n",
        "for i in range(60, 80):\n",
        "    X_test.append(inputs[i-60:i, 0])\n",
        "X_test = np.array(X_test)\n",
        "X_test = np.reshape(X_test, (X_test.shape[0], X_test.shape[1], 1))\n",
        "predicted_stock_price = regressor.predict(X_test)\n",
        "predicted_stock_price = sc.inverse_transform(predicted_stock_price)"
      ],
      "execution_count": 37,
      "outputs": []
    },
    {
      "cell_type": "code",
      "metadata": {
        "colab": {
          "base_uri": "https://localhost:8080/",
          "height": 295
        },
        "id": "70owGaYvyGrx",
        "outputId": "38bfa421-78a5-4a32-fd8c-8c397f57a0db"
      },
      "source": [
        "# Visualising the results\n",
        "plt.plot(real_stock_price, color = 'red', label = 'Real AB Stock Price')\n",
        "plt.plot(predicted_stock_price, color = 'blue', label = 'Predicted AB Stock Price')\n",
        "plt.title('AB Stock Price Prediction')\n",
        "plt.xlabel('Time')\n",
        "plt.ylabel('AB Stock Price')\n",
        "plt.legend()\n",
        "plt.show()"
      ],
      "execution_count": 38,
      "outputs": [
        {
          "output_type": "display_data",
          "data": {
            "image/png": "[encoded data removed]",
            "text/plain": [
              "<Figure size 432x288 with 1 Axes>"
            ]
          },
          "metadata": {
            "tags": [],
            "needs_background": "light"
          }
        }
      ]
    },
    {
      "cell_type": "markdown",
      "metadata": {
        "id": "bQhVYKn_LWGs"
      },
      "source": [
        "#Analyse le portefeuille des banques tunisiennes\n",
        "###Un portefeuille d’actions peut être défini comme l’ensemble des actifs détenus par un investisseur à un instant donné. il n’y a pas de taille limite des composantes. On peut détenir 1 comme N actions. L’objectif d’en détenir un certain nombre et de façon varier peut être un moyen d’éviter une surexposition au risque. Par exemple on peut avoir un portefeuille composé de (BH, UBCI, AB, BS, UIB …). Dans les sections suivantes nous allons voir comment procéder à une analyse sous python d’un portefeuille. Les actions qui sont choisies doivent au préalable subir une bonne analyse fondamentale."
      ]
    },
    {
      "cell_type": "markdown",
      "metadata": {
        "id": "XbpsCOAmK2U8"
      },
      "source": [
        "#Importer les données des banques tunisiennes cotées bourse chaque jour \n",
        "\n",
        "\n",
        "1.   Pré_traitement \n",
        "\n"
      ]
    },
    {
      "cell_type": "code",
      "metadata": {
        "id": "c1YakiUWfRam"
      },
      "source": [
        "len(liste_entreprise) #afficher le nombre d'entreprises dans la bourse tunisienne \n",
        "liste_entreprise=[\"AB\",\"ATB\",\"BS\",\"BH\",\"BIAT\",\"BNA\",\"BT\",\"BTEI\",\"STB\",\"UBCI\",\"UIB\"]\n",
        "data=pd.DataFrame()\n",
        "for symbole in liste_entreprise : \n",
        "  data[symbole]= investpy.get_stock_historical_data(stock=symbole,country=\"tunisia\",from_date=\"1/1/2010\",to_date=\"08/5/2021\")[\"Close\"]"
      ],
      "execution_count": 176,
      "outputs": []
    },
    {
      "cell_type": "code",
      "metadata": {
        "colab": {
          "base_uri": "https://localhost:8080/",
          "height": 450
        },
        "id": "IkMeYlR_MKtB",
        "outputId": "22fc0a5b-986d-4077-e1e2-15c6d2387e55"
      },
      "source": [
        "data"
      ],
      "execution_count": 177,
      "outputs": [
        {
          "output_type": "execute_result",
          "data": {
            "text/html": [
              "<div>\n",
              "<style scoped>\n",
              "    .dataframe tbody tr th:only-of-type {\n",
              "        vertical-align: middle;\n",
              "    }\n",
              "\n",
              "    .dataframe tbody tr th {\n",
              "        vertical-align: top;\n",
              "    }\n",
              "\n",
              "    .dataframe thead th {\n",
              "        text-align: right;\n",
              "    }\n",
              "</style>\n",
              "<table border=\"1\" class=\"dataframe\">\n",
              "  <thead>\n",
              "    <tr style=\"text-align: right;\">\n",
              "      <th></th>\n",
              "      <th>AB</th>\n",
              "      <th>ATB</th>\n",
              "      <th>BS</th>\n",
              "      <th>BH</th>\n",
              "      <th>BIAT</th>\n",
              "      <th>BNA</th>\n",
              "      <th>BT</th>\n",
              "      <th>BTEI</th>\n",
              "      <th>STB</th>\n",
              "      <th>UBCI</th>\n",
              "      <th>UIB</th>\n",
              "    </tr>\n",
              "    <tr>\n",
              "      <th>Date</th>\n",
              "      <th></th>\n",
              "      <th></th>\n",
              "      <th></th>\n",
              "      <th></th>\n",
              "      <th></th>\n",
              "      <th></th>\n",
              "      <th></th>\n",
              "      <th></th>\n",
              "      <th></th>\n",
              "      <th></th>\n",
              "      <th></th>\n",
              "    </tr>\n",
              "  </thead>\n",
              "  <tbody>\n",
              "    <tr>\n",
              "      <th>2010-05-26</th>\n",
              "      <td>37.60</td>\n",
              "      <td>7.91</td>\n",
              "      <td>23.60</td>\n",
              "      <td>27.41</td>\n",
              "      <td>79.73</td>\n",
              "      <td>13.72</td>\n",
              "      <td>10.60</td>\n",
              "      <td>31.00</td>\n",
              "      <td>14.85</td>\n",
              "      <td>49.13</td>\n",
              "      <td>21.48</td>\n",
              "    </tr>\n",
              "    <tr>\n",
              "      <th>2010-05-27</th>\n",
              "      <td>38.00</td>\n",
              "      <td>7.84</td>\n",
              "      <td>23.60</td>\n",
              "      <td>27.42</td>\n",
              "      <td>79.51</td>\n",
              "      <td>13.95</td>\n",
              "      <td>10.56</td>\n",
              "      <td>31.00</td>\n",
              "      <td>15.00</td>\n",
              "      <td>48.67</td>\n",
              "      <td>21.44</td>\n",
              "    </tr>\n",
              "    <tr>\n",
              "      <th>2010-05-28</th>\n",
              "      <td>37.75</td>\n",
              "      <td>7.84</td>\n",
              "      <td>23.60</td>\n",
              "      <td>27.50</td>\n",
              "      <td>79.50</td>\n",
              "      <td>14.00</td>\n",
              "      <td>10.59</td>\n",
              "      <td>31.00</td>\n",
              "      <td>14.90</td>\n",
              "      <td>48.00</td>\n",
              "      <td>21.44</td>\n",
              "    </tr>\n",
              "    <tr>\n",
              "      <th>2010-05-31</th>\n",
              "      <td>37.13</td>\n",
              "      <td>7.84</td>\n",
              "      <td>23.41</td>\n",
              "      <td>27.40</td>\n",
              "      <td>79.30</td>\n",
              "      <td>13.82</td>\n",
              "      <td>10.84</td>\n",
              "      <td>31.20</td>\n",
              "      <td>14.98</td>\n",
              "      <td>48.01</td>\n",
              "      <td>21.50</td>\n",
              "    </tr>\n",
              "    <tr>\n",
              "      <th>2010-06-01</th>\n",
              "      <td>38.62</td>\n",
              "      <td>7.86</td>\n",
              "      <td>23.30</td>\n",
              "      <td>27.40</td>\n",
              "      <td>79.41</td>\n",
              "      <td>14.00</td>\n",
              "      <td>10.79</td>\n",
              "      <td>31.00</td>\n",
              "      <td>14.99</td>\n",
              "      <td>48.67</td>\n",
              "      <td>21.40</td>\n",
              "    </tr>\n",
              "    <tr>\n",
              "      <th>...</th>\n",
              "      <td>...</td>\n",
              "      <td>...</td>\n",
              "      <td>...</td>\n",
              "      <td>...</td>\n",
              "      <td>...</td>\n",
              "      <td>...</td>\n",
              "      <td>...</td>\n",
              "      <td>...</td>\n",
              "      <td>...</td>\n",
              "      <td>...</td>\n",
              "      <td>...</td>\n",
              "    </tr>\n",
              "    <tr>\n",
              "      <th>2021-05-03</th>\n",
              "      <td>22.75</td>\n",
              "      <td>2.68</td>\n",
              "      <td>33.20</td>\n",
              "      <td>9.65</td>\n",
              "      <td>60.87</td>\n",
              "      <td>7.60</td>\n",
              "      <td>6.64</td>\n",
              "      <td>7.37</td>\n",
              "      <td>3.00</td>\n",
              "      <td>NaN</td>\n",
              "      <td>16.60</td>\n",
              "    </tr>\n",
              "    <tr>\n",
              "      <th>2021-05-04</th>\n",
              "      <td>22.73</td>\n",
              "      <td>2.70</td>\n",
              "      <td>33.40</td>\n",
              "      <td>9.77</td>\n",
              "      <td>64.57</td>\n",
              "      <td>7.82</td>\n",
              "      <td>6.29</td>\n",
              "      <td>NaN</td>\n",
              "      <td>3.00</td>\n",
              "      <td>NaN</td>\n",
              "      <td>16.20</td>\n",
              "    </tr>\n",
              "    <tr>\n",
              "      <th>2021-05-05</th>\n",
              "      <td>22.69</td>\n",
              "      <td>2.75</td>\n",
              "      <td>30.40</td>\n",
              "      <td>9.85</td>\n",
              "      <td>64.00</td>\n",
              "      <td>7.92</td>\n",
              "      <td>6.29</td>\n",
              "      <td>NaN</td>\n",
              "      <td>2.97</td>\n",
              "      <td>NaN</td>\n",
              "      <td>16.35</td>\n",
              "    </tr>\n",
              "    <tr>\n",
              "      <th>2021-05-06</th>\n",
              "      <td>21.00</td>\n",
              "      <td>2.75</td>\n",
              "      <td>31.19</td>\n",
              "      <td>9.91</td>\n",
              "      <td>64.00</td>\n",
              "      <td>7.95</td>\n",
              "      <td>6.31</td>\n",
              "      <td>6.94</td>\n",
              "      <td>3.00</td>\n",
              "      <td>22.91</td>\n",
              "      <td>16.35</td>\n",
              "    </tr>\n",
              "    <tr>\n",
              "      <th>2021-05-07</th>\n",
              "      <td>20.97</td>\n",
              "      <td>2.80</td>\n",
              "      <td>31.19</td>\n",
              "      <td>10.05</td>\n",
              "      <td>64.00</td>\n",
              "      <td>7.95</td>\n",
              "      <td>6.31</td>\n",
              "      <td>6.94</td>\n",
              "      <td>3.00</td>\n",
              "      <td>22.90</td>\n",
              "      <td>16.35</td>\n",
              "    </tr>\n",
              "  </tbody>\n",
              "</table>\n",
              "<p>2693 rows × 11 columns</p>\n",
              "</div>"
            ],
            "text/plain": [
              "               AB   ATB     BS     BH   BIAT  ...     BT   BTEI    STB   UBCI    UIB\n",
              "Date                                          ...                                   \n",
              "2010-05-26  37.60  7.91  23.60  27.41  79.73  ...  10.60  31.00  14.85  49.13  21.48\n",
              "2010-05-27  38.00  7.84  23.60  27.42  79.51  ...  10.56  31.00  15.00  48.67  21.44\n",
              "2010-05-28  37.75  7.84  23.60  27.50  79.50  ...  10.59  31.00  14.90  48.00  21.44\n",
              "2010-05-31  37.13  7.84  23.41  27.40  79.30  ...  10.84  31.20  14.98  48.01  21.50\n",
              "2010-06-01  38.62  7.86  23.30  27.40  79.41  ...  10.79  31.00  14.99  48.67  21.40\n",
              "...           ...   ...    ...    ...    ...  ...    ...    ...    ...    ...    ...\n",
              "2021-05-03  22.75  2.68  33.20   9.65  60.87  ...   6.64   7.37   3.00    NaN  16.60\n",
              "2021-05-04  22.73  2.70  33.40   9.77  64.57  ...   6.29    NaN   3.00    NaN  16.20\n",
              "2021-05-05  22.69  2.75  30.40   9.85  64.00  ...   6.29    NaN   2.97    NaN  16.35\n",
              "2021-05-06  21.00  2.75  31.19   9.91  64.00  ...   6.31   6.94   3.00  22.91  16.35\n",
              "2021-05-07  20.97  2.80  31.19  10.05  64.00  ...   6.31   6.94   3.00  22.90  16.35\n",
              "\n",
              "[2693 rows x 11 columns]"
            ]
          },
          "metadata": {
            "tags": []
          },
          "execution_count": 177
        }
      ]
    },
    {
      "cell_type": "code",
      "metadata": {
        "colab": {
          "base_uri": "https://localhost:8080/"
        },
        "id": "_tDezng6MQsQ",
        "outputId": "7159970a-7a01-44b2-d422-97e4749cfa30"
      },
      "source": [
        "data.info()"
      ],
      "execution_count": 178,
      "outputs": [
        {
          "output_type": "stream",
          "text": [
            "<class 'pandas.core.frame.DataFrame'>\n",
            "DatetimeIndex: 2693 entries, 2010-05-26 to 2021-05-07\n",
            "Data columns (total 11 columns):\n",
            " #   Column  Non-Null Count  Dtype  \n",
            "---  ------  --------------  -----  \n",
            " 0   AB      2693 non-null   float64\n",
            " 1   ATB     2564 non-null   float64\n",
            " 2   BS      2687 non-null   float64\n",
            " 3   BH      2442 non-null   float64\n",
            " 4   BIAT    2651 non-null   float64\n",
            " 5   BNA     2606 non-null   float64\n",
            " 6   BT      2674 non-null   float64\n",
            " 7   BTEI    1797 non-null   float64\n",
            " 8   STB     2580 non-null   float64\n",
            " 9   UBCI    1438 non-null   float64\n",
            " 10  UIB     2668 non-null   float64\n",
            "dtypes: float64(11)\n",
            "memory usage: 252.5 KB\n"
          ],
          "name": "stdout"
        }
      ]
    },
    {
      "cell_type": "markdown",
      "metadata": {
        "id": "RN4VnTEvMdHF"
      },
      "source": [
        "#####Dans la code précédent, je demande à python de me lister les informations de la table data. Cette étape est très importante car elle permet de voir si nous avons des données manquantes pour une action donnée. Nous allons éviter au maximum les données manquantes pour ne pas être confronté à des calculs biaisés.  Une première conclusion serait de dire que nous avons des données incomplètes. Prochaine étape c’est de regarder la tête de la table en affichant les 5 premières lignes avec une instruction .head().\n",
        "\n"
      ]
    },
    {
      "cell_type": "code",
      "metadata": {
        "colab": {
          "base_uri": "https://localhost:8080/"
        },
        "id": "RLtASOWRMsKo",
        "outputId": "ab16696b-6116-49f6-d342-d9ed87ce56a4"
      },
      "source": [
        "data.isna().sum().sum()"
      ],
      "execution_count": 179,
      "outputs": [
        {
          "output_type": "execute_result",
          "data": {
            "text/plain": [
              "2823"
            ]
          },
          "metadata": {
            "tags": []
          },
          "execution_count": 179
        }
      ]
    },
    {
      "cell_type": "code",
      "metadata": {
        "colab": {
          "base_uri": "https://localhost:8080/"
        },
        "id": "-UnVbX3gNROM",
        "outputId": "7ce21253-78ba-4a3f-e83b-d27e2f9038e0"
      },
      "source": [
        "data.isnull().sum().sum()"
      ],
      "execution_count": 115,
      "outputs": [
        {
          "output_type": "execute_result",
          "data": {
            "text/plain": [
              "2823"
            ]
          },
          "metadata": {
            "tags": []
          },
          "execution_count": 115
        }
      ]
    },
    {
      "cell_type": "code",
      "metadata": {
        "colab": {
          "base_uri": "https://localhost:8080/"
        },
        "id": "fk8xNZEaOKHr",
        "outputId": "e1a02029-5ff2-420c-fef4-490a8e5cff27"
      },
      "source": [
        "df_na = data.columns[data.isna().sum() != 0]\n",
        "df_na"
      ],
      "execution_count": 180,
      "outputs": [
        {
          "output_type": "execute_result",
          "data": {
            "text/plain": [
              "Index(['ATB', 'BS', 'BH', 'BIAT', 'BNA', 'BT', 'BTEI', 'STB', 'UBCI', 'UIB'], dtype='object')"
            ]
          },
          "metadata": {
            "tags": []
          },
          "execution_count": 180
        }
      ]
    },
    {
      "cell_type": "code",
      "metadata": {
        "id": "Pr29I8TAONU-"
      },
      "source": [
        "for entp in df_na :\n",
        "  data.fillna(method =\"ffill\").loc[:,entp]\n"
      ],
      "execution_count": 181,
      "outputs": []
    },
    {
      "cell_type": "code",
      "metadata": {
        "id": "43VWqRYjQddi"
      },
      "source": [
        "data=data.fillna(method =\"ffill\")\n",
        "#on remplit les valeurs manquantes avec les valeurs precedentes "
      ],
      "execution_count": 182,
      "outputs": []
    },
    {
      "cell_type": "code",
      "metadata": {
        "id": "Qb0San0lQzhX"
      },
      "source": [
        "data=data.fillna(method =\"bfill\")\n",
        "#on remplit les valeurs manquantes avec les valeurs suivantes "
      ],
      "execution_count": 183,
      "outputs": []
    },
    {
      "cell_type": "code",
      "metadata": {
        "colab": {
          "base_uri": "https://localhost:8080/"
        },
        "id": "ka8YwfBAQ1Bv",
        "outputId": "6de17d30-118f-43fa-dbdd-177a8a3f240e"
      },
      "source": [
        "data.isnull().sum() #on test et on remarque qu'on as pas des valeurs manquantes "
      ],
      "execution_count": 184,
      "outputs": [
        {
          "output_type": "execute_result",
          "data": {
            "text/plain": [
              "AB      0\n",
              "ATB     0\n",
              "BS      0\n",
              "BH      0\n",
              "BIAT    0\n",
              "BNA     0\n",
              "BT      0\n",
              "BTEI    0\n",
              "STB     0\n",
              "UBCI    0\n",
              "UIB     0\n",
              "dtype: int64"
            ]
          },
          "metadata": {
            "tags": []
          },
          "execution_count": 184
        }
      ]
    },
    {
      "cell_type": "code",
      "metadata": {
        "colab": {
          "base_uri": "https://localhost:8080/",
          "height": 482
        },
        "id": "Wk8RGtSZSumC",
        "outputId": "5cf425aa-975a-4a87-f065-606d29a7cf0d"
      },
      "source": [
        "data.plot(figsize=(11,8))"
      ],
      "execution_count": 185,
      "outputs": [
        {
          "output_type": "execute_result",
          "data": {
            "text/plain": [
              "<matplotlib.axes._subplots.AxesSubplot at 0x7fa640227f10>"
            ]
          },
          "metadata": {
            "tags": []
          },
          "execution_count": 185
        },
        {
          "output_type": "display_data",
          "data": {
            "image/png": "[encoded data removed]",
            "text/plain": [
              "<Figure size 792x576 with 1 Axes>"
            ]
          },
          "metadata": {
            "tags": [],
            "needs_background": "light"
          }
        }
      ]
    },
    {
      "cell_type": "markdown",
      "metadata": {
        "id": "-38TeihbTNQ3"
      },
      "source": [
        "Le graphique précédent représente l’évolution des prix des actions de notre portefeuille entre 2013 et 2019. D’un coup d’œil, on peut voir que BIAT sort du lot , ensuite viendra BS et les autres à la fin. Mais est-ce vraiment la réalité toute chose égale par ailleurs ?\n",
        "\n",
        "Utilisons la normalisation pour en être sûr. La normalisation se réfère à la création de versions décalées et échelonnées des actions, où l’intention est que ces valeurs normalisées permettent la comparaison des actions d’une manière qui élimine les effets de certaines influences brutes. Pour ce faire, on va diviser chaque action par son prix initial et on le multiplie par 100. La fonction .iloc[ ] va permettre d’effectuer cette tâche. Pour info le premier élément dans python à un index de 0 et non pas 1."
      ]
    },
    {
      "cell_type": "code",
      "metadata": {
        "colab": {
          "base_uri": "https://localhost:8080/",
          "height": 465
        },
        "id": "c_Uog-IcTecB",
        "outputId": "8f046bf1-84b6-4b1c-9eeb-11fdbc4d619d"
      },
      "source": [
        "(data / data.iloc[0] * 100 ).plot(figsize=(11,8))\n",
        "plt.show()\n",
        "#on remarque que la BS et la biat ont presque la meme courbe "
      ],
      "execution_count": 186,
      "outputs": [
        {
          "output_type": "display_data",
          "data": {
            "image/png": "[encoded data removed]",
            "text/plain": [
              "<Figure size 792x576 with 1 Axes>"
            ]
          },
          "metadata": {
            "tags": [],
            "needs_background": "light"
          }
        }
      ]
    },
    {
      "cell_type": "markdown",
      "metadata": {
        "id": "_-kJvEeSUi8e"
      },
      "source": [
        "2.  Le « Log Return »\n",
        "\n",
        "Pour calculer le gain journalier (respectivement perte journalière) de chaque action, on utilise le log return. Cette technique va nous permettre d’avoir une idée sur nos rendements moyens. Le calcul c’est de prendre la fonction log de : ( l’actif à une date t / l’actif à une date t-1). Pour avoir la fonction précédente dans python on peut utiliser 2 méthodes :"
      ]
    },
    {
      "cell_type": "code",
      "metadata": {
        "colab": {
          "base_uri": "https://localhost:8080/",
          "height": 235
        },
        "id": "bOpyywKOUe74",
        "outputId": "3c27e16c-ff49-4ee0-8306-0f364dfaaf47"
      },
      "source": [
        "log_returns = np.log(1+data.pct_change())\n",
        "log_returns.tail()"
      ],
      "execution_count": 187,
      "outputs": [
        {
          "output_type": "execute_result",
          "data": {
            "text/html": [
              "<div>\n",
              "<style scoped>\n",
              "    .dataframe tbody tr th:only-of-type {\n",
              "        vertical-align: middle;\n",
              "    }\n",
              "\n",
              "    .dataframe tbody tr th {\n",
              "        vertical-align: top;\n",
              "    }\n",
              "\n",
              "    .dataframe thead th {\n",
              "        text-align: right;\n",
              "    }\n",
              "</style>\n",
              "<table border=\"1\" class=\"dataframe\">\n",
              "  <thead>\n",
              "    <tr style=\"text-align: right;\">\n",
              "      <th></th>\n",
              "      <th>AB</th>\n",
              "      <th>ATB</th>\n",
              "      <th>BS</th>\n",
              "      <th>BH</th>\n",
              "      <th>BIAT</th>\n",
              "      <th>BNA</th>\n",
              "      <th>BT</th>\n",
              "      <th>BTEI</th>\n",
              "      <th>STB</th>\n",
              "      <th>UBCI</th>\n",
              "      <th>UIB</th>\n",
              "    </tr>\n",
              "    <tr>\n",
              "      <th>Date</th>\n",
              "      <th></th>\n",
              "      <th></th>\n",
              "      <th></th>\n",
              "      <th></th>\n",
              "      <th></th>\n",
              "      <th></th>\n",
              "      <th></th>\n",
              "      <th></th>\n",
              "      <th></th>\n",
              "      <th></th>\n",
              "      <th></th>\n",
              "    </tr>\n",
              "  </thead>\n",
              "  <tbody>\n",
              "    <tr>\n",
              "      <th>2021-05-03</th>\n",
              "      <td>-0.010929</td>\n",
              "      <td>-0.007435</td>\n",
              "      <td>-0.003008</td>\n",
              "      <td>0.010417</td>\n",
              "      <td>0.023605</td>\n",
              "      <td>0.013245</td>\n",
              "      <td>0.012121</td>\n",
              "      <td>-0.002710</td>\n",
              "      <td>0.00000</td>\n",
              "      <td>0.000000</td>\n",
              "      <td>-0.010785</td>\n",
              "    </tr>\n",
              "    <tr>\n",
              "      <th>2021-05-04</th>\n",
              "      <td>-0.000880</td>\n",
              "      <td>0.007435</td>\n",
              "      <td>0.006006</td>\n",
              "      <td>0.012359</td>\n",
              "      <td>0.059009</td>\n",
              "      <td>0.028536</td>\n",
              "      <td>-0.054151</td>\n",
              "      <td>0.000000</td>\n",
              "      <td>0.00000</td>\n",
              "      <td>0.000000</td>\n",
              "      <td>-0.024391</td>\n",
              "    </tr>\n",
              "    <tr>\n",
              "      <th>2021-05-05</th>\n",
              "      <td>-0.001761</td>\n",
              "      <td>0.018349</td>\n",
              "      <td>-0.094113</td>\n",
              "      <td>0.008155</td>\n",
              "      <td>-0.008867</td>\n",
              "      <td>0.012707</td>\n",
              "      <td>0.000000</td>\n",
              "      <td>0.000000</td>\n",
              "      <td>-0.01005</td>\n",
              "      <td>0.000000</td>\n",
              "      <td>0.009217</td>\n",
              "    </tr>\n",
              "    <tr>\n",
              "      <th>2021-05-06</th>\n",
              "      <td>-0.077402</td>\n",
              "      <td>0.000000</td>\n",
              "      <td>0.025655</td>\n",
              "      <td>0.006073</td>\n",
              "      <td>0.000000</td>\n",
              "      <td>0.003781</td>\n",
              "      <td>0.003175</td>\n",
              "      <td>-0.060116</td>\n",
              "      <td>0.01005</td>\n",
              "      <td>0.000000</td>\n",
              "      <td>0.000000</td>\n",
              "    </tr>\n",
              "    <tr>\n",
              "      <th>2021-05-07</th>\n",
              "      <td>-0.001430</td>\n",
              "      <td>0.018019</td>\n",
              "      <td>0.000000</td>\n",
              "      <td>0.014028</td>\n",
              "      <td>0.000000</td>\n",
              "      <td>0.000000</td>\n",
              "      <td>0.000000</td>\n",
              "      <td>0.000000</td>\n",
              "      <td>0.00000</td>\n",
              "      <td>-0.000437</td>\n",
              "      <td>0.000000</td>\n",
              "    </tr>\n",
              "  </tbody>\n",
              "</table>\n",
              "</div>"
            ],
            "text/plain": [
              "                  AB       ATB        BS  ...      STB      UBCI       UIB\n",
              "Date                                      ...                             \n",
              "2021-05-03 -0.010929 -0.007435 -0.003008  ...  0.00000  0.000000 -0.010785\n",
              "2021-05-04 -0.000880  0.007435  0.006006  ...  0.00000  0.000000 -0.024391\n",
              "2021-05-05 -0.001761  0.018349 -0.094113  ... -0.01005  0.000000  0.009217\n",
              "2021-05-06 -0.077402  0.000000  0.025655  ...  0.01005  0.000000  0.000000\n",
              "2021-05-07 -0.001430  0.018019  0.000000  ...  0.00000 -0.000437  0.000000\n",
              "\n",
              "[5 rows x 11 columns]"
            ]
          },
          "metadata": {
            "tags": []
          },
          "execution_count": 187
        }
      ]
    },
    {
      "cell_type": "code",
      "metadata": {
        "colab": {
          "base_uri": "https://localhost:8080/"
        },
        "id": "kBGDfffmU6RS",
        "outputId": "588709f7-e14b-4b55-a6e7-20e5582275a2"
      },
      "source": [
        "daily_returns = log_returns .mean()\n",
        "daily_returns"
      ],
      "execution_count": 190,
      "outputs": [
        {
          "output_type": "execute_result",
          "data": {
            "text/plain": [
              "AB     -0.000217\n",
              "ATB    -0.000386\n",
              "BS      0.000104\n",
              "BH     -0.000373\n",
              "BIAT   -0.000082\n",
              "BNA    -0.000203\n",
              "BT     -0.000193\n",
              "BTEI   -0.000556\n",
              "STB    -0.000594\n",
              "UBCI   -0.000284\n",
              "UIB    -0.000101\n",
              "dtype: float64"
            ]
          },
          "metadata": {
            "tags": []
          },
          "execution_count": 190
        }
      ]
    },
    {
      "cell_type": "code",
      "metadata": {
        "colab": {
          "base_uri": "https://localhost:8080/"
        },
        "id": "MVelJuVHXy5H",
        "outputId": "3ec5385b-00a5-4167-d154-efdbb7f5819d"
      },
      "source": [
        "annuel_returns = log_returns.mean() *252\n",
        "annuel_returns\n"
      ],
      "execution_count": 204,
      "outputs": [
        {
          "output_type": "execute_result",
          "data": {
            "text/plain": [
              "AB     -0.054660\n",
              "ATB    -0.097215\n",
              "BS      0.026103\n",
              "BH     -0.093923\n",
              "BIAT   -0.020572\n",
              "BNA    -0.051082\n",
              "BT     -0.048558\n",
              "BTEI   -0.140106\n",
              "STB    -0.149720\n",
              "UBCI   -0.071456\n",
              "UIB    -0.025546\n",
              "dtype: float64"
            ]
          },
          "metadata": {
            "tags": []
          },
          "execution_count": 204
        }
      ]
    },
    {
      "cell_type": "markdown",
      "metadata": {
        "id": "qan0wYDWV7Dt"
      },
      "source": [
        "Le tableau précédent nous donne les retours sur investissement moyens annuels. On peut voir que **BS** fournit le meilleur résultat avec **2.6%** de ROI annuel.deuxuement on trouve **BIAT** qui donne -**2.0572%**. Comme nous l’avait indiqué la normalisation des données un peu plus haut. D’où son importance visuelle, cela permet de confirmer nos conclusions.\n",
        "\n",
        "Ce qui serait intéressant maintenant, c’est de se dire si j’avais **10 000€** à investir, quel montant je vais allouer à chaque action ? Pour le déterminer il faut clairement effectuer une allocation selon les intuitions. Il existe une méthode infaillible pour palier à ce problème basée sur la simulation de Monte Carlo.\n",
        "\n",
        "Je vais définir un tableau de poids d’allocation weights = [0.0909,0.0909,0.0909,0.0909,0.0909,0.0909,0.0909,0.0909,0.0909,0.0909,0.0909]. Je me dis que je donne les mêmes poids à mes 11 actions. Notez bien que la somme de Weights ne doit pas dépasser 1. Elle ne doit pas non plus être inférieure.\n",
        "\n",
        "En d’autres termes, je me dis que j’investis **909.090909091€** sur chaque action, je ne me prends pas la tête. Weights est un array (tableau) de numpy qui va permettre d’effectuer des calculs matriciels. Elle va nous servir donc à avoir le ROI de notre portefeuille, tenant compte de tous nos actifs.\n",
        "\n",
        "\n",
        "Une fois que j’ai le montant que je souhaite investir sur chaque action, je peux calculer le retour sur investissement moyen annuel. En multipliant chaque weights à son annual_returns correspondant :\n",
        "\n",
        "\n"
      ]
    },
    {
      "cell_type": "code",
      "metadata": {
        "colab": {
          "base_uri": "https://localhost:8080/"
        },
        "id": "h8ckOCk2c3E-",
        "outputId": "2261d0ee-aac3-4cb8-c5da-175f30631918"
      },
      "source": [
        "weights  = np.array([0.0909,0.0909,0.0909,0.0909,0.0909,0.0909,0.0909,0.0909,0.0909,0.0909,0.0909])\n",
        "weights"
      ],
      "execution_count": 205,
      "outputs": [
        {
          "output_type": "execute_result",
          "data": {
            "text/plain": [
              "array([0.0909, 0.0909, 0.0909, 0.0909, 0.0909, 0.0909, 0.0909, 0.0909,\n",
              "       0.0909, 0.0909, 0.0909])"
            ]
          },
          "metadata": {
            "tags": []
          },
          "execution_count": 205
        }
      ]
    },
    {
      "cell_type": "markdown",
      "metadata": {
        "id": "RDMQ0ZTFdREO"
      },
      "source": [
        "Une fois que j’ai le montant que je souhaite investir sur chaque action, je peux calculer le retour sur investissement moyen annuel. En multipliant chaque weights à son annual_returns correspondant :\n",
        "\n"
      ]
    },
    {
      "cell_type": "code",
      "metadata": {
        "colab": {
          "base_uri": "https://localhost:8080/"
        },
        "id": "M_uu4WVCdMSC",
        "outputId": "3b826baa-1aa3-48f7-fa93-8d15a93bc02b"
      },
      "source": [
        "pfolio_mean = round(np.dot(annuel_returns,weights),2)\n",
        "print('Mon gain annuel est de '+str(pfolio_mean*100)+ str(\"%\"))"
      ],
      "execution_count": 208,
      "outputs": [
        {
          "output_type": "stream",
          "text": [
            "Mon gain annuel est de -7.000000000000001%\n"
          ],
          "name": "stdout"
        }
      ]
    },
    {
      "cell_type": "markdown",
      "metadata": {
        "id": "syI8iYBKd6OX"
      },
      "source": [
        "J’ai utilisé une fonction .round() qui me sert à arrondir mon résultat à l’entier supérieur. Ainsi, le résultat me donne en moyenne -7% de ROI annuel ce qui reste dur . si on investit **10 000$ ** on gagne à la fin du l'années **9300 dollars** \n",
        "mais le portefeuille admet une dispersion. Qui est mesurée par sa variance et donc la volatilité.\n",
        "\n",
        "La variance du portefeuille est calculée de la façon suivante :"
      ]
    },
    {
      "cell_type": "code",
      "metadata": {
        "colab": {
          "base_uri": "https://localhost:8080/"
        },
        "id": "oItQEW9ifbn9",
        "outputId": "4b858db6-2299-4748-f0ad-b3272ec07235"
      },
      "source": [
        "pfolio_var = round(np.dot(weights.T,np.dot(log_returns.cov() *250,weights)),2)\n",
        "print(\"la variance du portefeuille est de :\" + str(pfolio_var*100) +str(\"%\"))"
      ],
      "execution_count": 211,
      "outputs": [
        {
          "output_type": "stream",
          "text": [
            "la variance du portefeuille est de :1.0%\n"
          ],
          "name": "stdout"
        }
      ]
    },
    {
      "cell_type": "markdown",
      "metadata": {
        "id": "jBUg8f_WgVsr"
      },
      "source": [
        "La volatilité du portefeuille :\n",
        "\n"
      ]
    },
    {
      "cell_type": "code",
      "metadata": {
        "colab": {
          "base_uri": "https://localhost:8080/"
        },
        "id": "8L16xwqNgZ0M",
        "outputId": "aebfa1a5-b10b-4c6c-b3f5-6db42637e571"
      },
      "source": [
        "pfolio_vol = round((np.dot(weights.T,np.dot(log_returns.cov() *250,weights)))** 0.5,2)\n",
        "print('le risque associé à mon portefeuille est de :' + str(pfolio_vol*100) +str(\"%\"))"
      ],
      "execution_count": 213,
      "outputs": [
        {
          "output_type": "stream",
          "text": [
            "le risque associé à mon portefeuille est de :10.0%\n"
          ],
          "name": "stdout"
        }
      ]
    },
    {
      "cell_type": "markdown",
      "metadata": {
        "id": "nY2pZhS2iI-d"
      },
      "source": [
        "La question qui se pose est est-ce qu’on est prêt à prendre ce risque (un risque elevé quand meme)? William Forsyth Sharpe nous donne la réponse\n"
      ]
    },
    {
      "cell_type": "markdown",
      "metadata": {
        "id": "ODHFe0JtiROQ"
      },
      "source": [
        "3. Le Ratio de Sharpe\n",
        "\n",
        "Le ratio de Sharpe mis en place en 1966 par William Forsyth Sharpe, permet de mesurer la rentabilité d’un portefeuille en fonction du risque pris. En effet il permet de mesurer l’écart de rentabilité d’un portefeuille d’actifs financiers , divisé par un indicateur de risque, l’écart type de la rentabilité de ce portefeuille, autrement dit sa volatilité.\n",
        "\n",
        "Donc si ce ratio < 1, on considère que l’on prend beaucoup trop de risque pour ce dont on est prêt à gagner. Et l’opposé implique que le risque en vaut la peine en vue de ce que nous sommes prêts à encaisser.\n",
        "\n",
        "Dans le cas de notre portefeuille on a vu que nous avons un rendement de 26% pour un risque de 21%. Donc notre le ratio de sharpe est de :"
      ]
    },
    {
      "cell_type": "code",
      "metadata": {
        "colab": {
          "base_uri": "https://localhost:8080/"
        },
        "id": "y2Q2G41xiKLo",
        "outputId": "2b858ada-6b24-49ac-ab71-d7b1d1afa4ac"
      },
      "source": [
        "sharpe  = np.sum((log_returns.mean() * weights) *250) / np.sqrt(np.dot(weights.T,np.dot(log_returns.cov() *250,weights)))\n",
        "sharpe"
      ],
      "execution_count": 216,
      "outputs": [
        {
          "output_type": "execute_result",
          "data": {
            "text/plain": [
              "-0.6632508757236996"
            ]
          },
          "metadata": {
            "tags": []
          },
          "execution_count": 216
        }
      ]
    },
    {
      "cell_type": "markdown",
      "metadata": {
        "id": "yQqOGUY5kFSY"
      },
      "source": [
        "##### On obtenu une valeur inferieur à 1 , on prend beaucoup trop de risque pour ce dont on est prêt à gagner"
      ]
    }
  ]
}